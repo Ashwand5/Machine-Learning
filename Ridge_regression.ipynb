{
 "cells": [
  {
   "cell_type": "code",
   "execution_count": null,
   "id": "initial_id",
   "metadata": {
    "collapsed": true
   },
   "outputs": [],
   "source": []
  },
  {
   "cell_type": "markdown",
   "source": [
    "# Linear Regression - \n",
    "* relationship between the continuous variables.\n",
    "# Logistic Regression -\n",
    "* binary or discrete format such as 0 or 1.\n",
    "# Polynomial Regression -\n",
    "* non-linear dataset\n",
    "# Ridge Regression -\n",
    "* long term predictions.\n",
    "# Lasso Regression -\n",
    "* large number of features\n",
    "* expected to be less relevant or even irrelevant to the target variable.\n"
   ],
   "metadata": {
    "collapsed": false
   },
   "id": "f72841f7ad583006"
  },
  {
   "cell_type": "markdown",
   "source": [
    "# Here's what the VIF values mean:\n",
    "\n",
    "* VIF = 1: No correlation between the predictor and other variables. No multicollinearity.\n",
    "* VIF > 1 and < 5: Moderate correlation, not a major concern.\n",
    "* VIF > 5 and < 10: High correlation, and you may want to examine and possibly address multicollinearity.\n",
    "* VIF > 10: Very high correlation, indicating a serious multicollinearity problem."
   ],
   "metadata": {
    "collapsed": false
   },
   "id": "951be02caf98b15b"
  },
  {
   "cell_type": "code",
   "execution_count": 6,
   "outputs": [
    {
     "name": "stdout",
     "output_type": "stream",
     "text": [
      "Correlation Matrix:\n",
      "                       Study Hours  Sleep Hours  Extracurricular Hours  \\\n",
      "Study Hours               1.000000    -0.821442               0.302636   \n",
      "Sleep Hours              -0.821442     1.000000              -0.200000   \n",
      "Extracurricular Hours     0.302636    -0.200000               1.000000   \n",
      "Exam Score                0.968177    -0.852065               0.502500   \n",
      "\n",
      "                       Exam Score  \n",
      "Study Hours              0.968177  \n",
      "Sleep Hours             -0.852065  \n",
      "Extracurricular Hours    0.502500  \n",
      "Exam Score               1.000000  \n",
      "\n",
      "VIF Values:\n",
      "                Variable         VIF\n",
      "0                  const  345.387755\n",
      "1            Study Hours    3.275510\n",
      "2            Sleep Hours    3.099490\n",
      "3  Extracurricular Hours    1.109694\n",
      "\n",
      "Regression Model Summary:\n",
      "                            OLS Regression Results                            \n",
      "==============================================================================\n",
      "Dep. Variable:             Exam Score   R-squared:                       1.000\n",
      "Model:                            OLS   Adj. R-squared:                    nan\n",
      "Method:                 Least Squares   F-statistic:                       nan\n",
      "Date:                Thu, 21 Dec 2023   Prob (F-statistic):                nan\n",
      "Time:                        15:02:40   Log-Likelihood:                 117.83\n",
      "No. Observations:                   4   AIC:                            -227.7\n",
      "Df Residuals:                       0   BIC:                            -230.1\n",
      "Df Model:                           3                                         \n",
      "Covariance Type:            nonrobust                                         \n",
      "=========================================================================================\n",
      "                            coef    std err          t      P>|t|      [0.025      0.975]\n",
      "-----------------------------------------------------------------------------------------\n",
      "const                    74.1429        inf          0        nan         nan         nan\n",
      "Study Hours               1.4286        inf          0        nan         nan         nan\n",
      "Sleep Hours              -0.9643        inf         -0        nan         nan         nan\n",
      "Extracurricular Hours     1.1071        inf          0        nan         nan         nan\n",
      "==============================================================================\n",
      "Omnibus:                          nan   Durbin-Watson:                   2.200\n",
      "Prob(Omnibus):                    nan   Jarque-Bera (JB):                0.572\n",
      "Skew:                           0.000   Prob(JB):                        0.751\n",
      "Kurtosis:                       1.148   Cond. No.                         259.\n",
      "==============================================================================\n",
      "\n",
      "Notes:\n",
      "[1] Standard Errors assume that the covariance matrix of the errors is correctly specified.\n"
     ]
    },
    {
     "name": "stderr",
     "output_type": "stream",
     "text": [
      "C:\\Users\\ashwa\\virtualenv\\Lib\\site-packages\\statsmodels\\stats\\stattools.py:74: ValueWarning: omni_normtest is not valid with less than 8 observations; 4 samples were given.\n",
      "  warn(\"omni_normtest is not valid with less than 8 observations; %i \"\n",
      "C:\\Users\\ashwa\\virtualenv\\Lib\\site-packages\\statsmodels\\regression\\linear_model.py:1795: RuntimeWarning: divide by zero encountered in divide\n",
      "  return 1 - (np.divide(self.nobs - self.k_constant, self.df_resid)\n",
      "C:\\Users\\ashwa\\virtualenv\\Lib\\site-packages\\statsmodels\\regression\\linear_model.py:1795: RuntimeWarning: invalid value encountered in scalar multiply\n",
      "  return 1 - (np.divide(self.nobs - self.k_constant, self.df_resid)\n",
      "C:\\Users\\ashwa\\virtualenv\\Lib\\site-packages\\statsmodels\\regression\\linear_model.py:1717: RuntimeWarning: divide by zero encountered in scalar divide\n",
      "  return np.dot(wresid, wresid) / self.df_resid\n"
     ]
    }
   ],
   "source": [
    "import pandas as pd\n",
    "import statsmodels.api as sm\n",
    "from statsmodels.stats.outliers_influence import variance_inflation_factor\n",
    "\n",
    "# Generate a sample dataset\n",
    "data = {'Study Hours': [10, 15, 12, 8],\n",
    "        'Sleep Hours': [7, 6, 8, 9],\n",
    "        'Extracurricular Hours': [3, 2, 4, 1],\n",
    "        'Exam Score': [85, 92, 88, 78]}\n",
    "\n",
    "df = pd.DataFrame(data)\n",
    "\n",
    "# Perform multiple regression\n",
    "X = df[['Study Hours', 'Sleep Hours', 'Extracurricular Hours']]\n",
    "X = sm.add_constant(X)  # add a constant term to the independent variables\n",
    "y = df['Exam Score']\n",
    "model = sm.OLS(y, X).fit()\n",
    "\n",
    "# Calculate the correlation matrix\n",
    "correlation_matrix = df.corr()\n",
    "print(\"Correlation Matrix:\")\n",
    "print(correlation_matrix)\n",
    "\n",
    "# Calculate VIF for each variable\n",
    "vif_data = pd.DataFrame()\n",
    "vif_data[\"Variable\"] = X.columns\n",
    "vif_data[\"VIF\"] = [variance_inflation_factor(X.values, i) for i in range(X.shape[1])]\n",
    "\n",
    "print(\"\\nVIF Values:\")\n",
    "print(vif_data)\n",
    "\n",
    "# Summary of the regression model\n",
    "print(\"\\nRegression Model Summary:\")\n",
    "print(model.summary())\n"
   ],
   "metadata": {
    "collapsed": false,
    "ExecuteTime": {
     "end_time": "2023-12-21T09:32:40.975752500Z",
     "start_time": "2023-12-21T09:32:40.263792100Z"
    }
   },
   "id": "f72062864c3cec58"
  },
  {
   "cell_type": "code",
   "execution_count": null,
   "outputs": [],
   "source": [],
   "metadata": {
    "collapsed": false
   },
   "id": "c52d7c8c45826c4b"
  }
 ],
 "metadata": {
  "kernelspec": {
   "display_name": "Python 3",
   "language": "python",
   "name": "python3"
  },
  "language_info": {
   "codemirror_mode": {
    "name": "ipython",
    "version": 2
   },
   "file_extension": ".py",
   "mimetype": "text/x-python",
   "name": "python",
   "nbconvert_exporter": "python",
   "pygments_lexer": "ipython2",
   "version": "2.7.6"
  }
 },
 "nbformat": 4,
 "nbformat_minor": 5
}

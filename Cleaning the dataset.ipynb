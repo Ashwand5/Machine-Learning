{
 "cells": [
  {
   "cell_type": "code",
   "execution_count": 1,
   "id": "initial_id",
   "metadata": {
    "collapsed": true,
    "ExecuteTime": {
     "end_time": "2023-12-28T10:36:00.705361400Z",
     "start_time": "2023-12-28T10:36:00.697792100Z"
    }
   },
   "outputs": [],
   "source": [
    "import numpy as np\n",
    "import pandas as pd\n",
    "import matplotlib.pyplot as plt"
   ]
  },
  {
   "cell_type": "code",
   "execution_count": null,
   "outputs": [],
   "source": [],
   "metadata": {
    "collapsed": false
   },
   "id": "ac243b113527df7b"
  },
  {
   "cell_type": "code",
   "execution_count": 2,
   "outputs": [],
   "source": [
    "data_set=pd.read_csv('iris_dataset.csv')"
   ],
   "metadata": {
    "collapsed": false,
    "ExecuteTime": {
     "end_time": "2023-12-28T10:36:00.770539500Z",
     "start_time": "2023-12-28T10:36:00.706362900Z"
    }
   },
   "id": "66f06dbd5a7557ad"
  },
  {
   "cell_type": "code",
   "execution_count": 3,
   "outputs": [],
   "source": [
    "train=data_set.iloc[:,:-1]"
   ],
   "metadata": {
    "collapsed": false,
    "ExecuteTime": {
     "end_time": "2023-12-28T10:36:00.771544600Z",
     "start_time": "2023-12-28T10:36:00.743026700Z"
    }
   },
   "id": "800d2b6426c1f73f"
  },
  {
   "cell_type": "code",
   "execution_count": 4,
   "outputs": [
    {
     "data": {
      "text/plain": "     Unnamed: 0    0    1    2    3  Type\n0             0  5.1  3.5  1.4  0.2     0\n1             1  4.9  3.0  1.4  0.2     0\n2             2  4.7  3.2  1.3  0.2     0\n3             3  4.6  3.1  1.5  0.2     0\n4             4  5.0  3.6  1.4  0.2     0\n..          ...  ...  ...  ...  ...   ...\n145         145  6.7  3.0  5.2  2.3     2\n146         146  6.3  2.5  5.0  1.9     2\n147         147  6.5  3.0  5.2  2.0     2\n148         148  6.2  3.4  5.4  2.3     2\n149         149  5.9  3.0  5.1  1.8     2\n\n[150 rows x 6 columns]",
      "text/html": "<div>\n<style scoped>\n    .dataframe tbody tr th:only-of-type {\n        vertical-align: middle;\n    }\n\n    .dataframe tbody tr th {\n        vertical-align: top;\n    }\n\n    .dataframe thead th {\n        text-align: right;\n    }\n</style>\n<table border=\"1\" class=\"dataframe\">\n  <thead>\n    <tr style=\"text-align: right;\">\n      <th></th>\n      <th>Unnamed: 0</th>\n      <th>0</th>\n      <th>1</th>\n      <th>2</th>\n      <th>3</th>\n      <th>Type</th>\n    </tr>\n  </thead>\n  <tbody>\n    <tr>\n      <th>0</th>\n      <td>0</td>\n      <td>5.1</td>\n      <td>3.5</td>\n      <td>1.4</td>\n      <td>0.2</td>\n      <td>0</td>\n    </tr>\n    <tr>\n      <th>1</th>\n      <td>1</td>\n      <td>4.9</td>\n      <td>3.0</td>\n      <td>1.4</td>\n      <td>0.2</td>\n      <td>0</td>\n    </tr>\n    <tr>\n      <th>2</th>\n      <td>2</td>\n      <td>4.7</td>\n      <td>3.2</td>\n      <td>1.3</td>\n      <td>0.2</td>\n      <td>0</td>\n    </tr>\n    <tr>\n      <th>3</th>\n      <td>3</td>\n      <td>4.6</td>\n      <td>3.1</td>\n      <td>1.5</td>\n      <td>0.2</td>\n      <td>0</td>\n    </tr>\n    <tr>\n      <th>4</th>\n      <td>4</td>\n      <td>5.0</td>\n      <td>3.6</td>\n      <td>1.4</td>\n      <td>0.2</td>\n      <td>0</td>\n    </tr>\n    <tr>\n      <th>...</th>\n      <td>...</td>\n      <td>...</td>\n      <td>...</td>\n      <td>...</td>\n      <td>...</td>\n      <td>...</td>\n    </tr>\n    <tr>\n      <th>145</th>\n      <td>145</td>\n      <td>6.7</td>\n      <td>3.0</td>\n      <td>5.2</td>\n      <td>2.3</td>\n      <td>2</td>\n    </tr>\n    <tr>\n      <th>146</th>\n      <td>146</td>\n      <td>6.3</td>\n      <td>2.5</td>\n      <td>5.0</td>\n      <td>1.9</td>\n      <td>2</td>\n    </tr>\n    <tr>\n      <th>147</th>\n      <td>147</td>\n      <td>6.5</td>\n      <td>3.0</td>\n      <td>5.2</td>\n      <td>2.0</td>\n      <td>2</td>\n    </tr>\n    <tr>\n      <th>148</th>\n      <td>148</td>\n      <td>6.2</td>\n      <td>3.4</td>\n      <td>5.4</td>\n      <td>2.3</td>\n      <td>2</td>\n    </tr>\n    <tr>\n      <th>149</th>\n      <td>149</td>\n      <td>5.9</td>\n      <td>3.0</td>\n      <td>5.1</td>\n      <td>1.8</td>\n      <td>2</td>\n    </tr>\n  </tbody>\n</table>\n<p>150 rows × 6 columns</p>\n</div>"
     },
     "execution_count": 4,
     "metadata": {},
     "output_type": "execute_result"
    }
   ],
   "source": [
    "data_set"
   ],
   "metadata": {
    "collapsed": false,
    "ExecuteTime": {
     "end_time": "2023-12-28T10:36:00.829926100Z",
     "start_time": "2023-12-28T10:36:00.750780700Z"
    }
   },
   "id": "5bb380524795be42"
  },
  {
   "cell_type": "markdown",
   "source": [
    "Number of null in dataset"
   ],
   "metadata": {
    "collapsed": false
   },
   "id": "dda872b07fb90e8c"
  },
  {
   "cell_type": "code",
   "execution_count": 5,
   "outputs": [
    {
     "data": {
      "text/plain": "Unnamed: 0    0\n0             2\n1             1\n2             5\n3             2\nType          0\ndtype: int64"
     },
     "execution_count": 5,
     "metadata": {},
     "output_type": "execute_result"
    }
   ],
   "source": [
    "data_set.isnull().sum()"
   ],
   "metadata": {
    "collapsed": false,
    "ExecuteTime": {
     "end_time": "2023-12-28T10:36:00.861075900Z",
     "start_time": "2023-12-28T10:36:00.789151700Z"
    }
   },
   "id": "56b1d5fd574d74d4"
  },
  {
   "cell_type": "markdown",
   "source": [
    "filling the null values"
   ],
   "metadata": {
    "collapsed": false
   },
   "id": "cdd25450886d8429"
  },
  {
   "cell_type": "code",
   "execution_count": 6,
   "outputs": [],
   "source": [
    "from sklearn.impute import SimpleImputer"
   ],
   "metadata": {
    "collapsed": false,
    "ExecuteTime": {
     "end_time": "2023-12-28T10:36:02.619690800Z",
     "start_time": "2023-12-28T10:36:00.804716900Z"
    }
   },
   "id": "e2014b843c3af601"
  },
  {
   "cell_type": "code",
   "execution_count": 7,
   "outputs": [],
   "source": [
    "imputer = SimpleImputer(missing_values=np.nan, strategy='mean')\n",
    "train=imputer.fit_transform(train)"
   ],
   "metadata": {
    "collapsed": false,
    "ExecuteTime": {
     "end_time": "2023-12-28T10:36:02.711085300Z",
     "start_time": "2023-12-28T10:36:02.629688300Z"
    }
   },
   "id": "5976db0ed759f855"
  },
  {
   "cell_type": "code",
   "execution_count": 8,
   "outputs": [],
   "source": [
    "train=pd.DataFrame(train)"
   ],
   "metadata": {
    "collapsed": false,
    "ExecuteTime": {
     "end_time": "2023-12-28T10:36:02.712067800Z",
     "start_time": "2023-12-28T10:36:02.648287500Z"
    }
   },
   "id": "4a8f6a5fd467f15a"
  },
  {
   "cell_type": "code",
   "execution_count": 9,
   "outputs": [
    {
     "data": {
      "text/plain": "0    0\n1    0\n2    0\n3    0\n4    0\ndtype: int64"
     },
     "execution_count": 9,
     "metadata": {},
     "output_type": "execute_result"
    }
   ],
   "source": [
    "train.isnull().sum()"
   ],
   "metadata": {
    "collapsed": false,
    "ExecuteTime": {
     "end_time": "2023-12-28T10:36:02.715394700Z",
     "start_time": "2023-12-28T10:36:02.657240200Z"
    }
   },
   "id": "5c6b31f8d1b75c9d"
  },
  {
   "cell_type": "markdown",
   "source": [
    "convert categorical into numercal"
   ],
   "metadata": {
    "collapsed": false
   },
   "id": "ff23789ec94248f0"
  },
  {
   "cell_type": "code",
   "execution_count": 10,
   "outputs": [],
   "source": [
    "from sklearn.preprocessing import OrdinalEncoder"
   ],
   "metadata": {
    "collapsed": false,
    "ExecuteTime": {
     "end_time": "2023-12-28T10:36:02.715394700Z",
     "start_time": "2023-12-28T10:36:02.672076100Z"
    }
   },
   "id": "55fa7ceb0d5fd562"
  },
  {
   "cell_type": "code",
   "execution_count": 11,
   "outputs": [],
   "source": [
    "ordinal_encoder = OrdinalEncoder()\n",
    "train=ordinal_encoder.fit_transform(data_set)"
   ],
   "metadata": {
    "collapsed": false,
    "ExecuteTime": {
     "end_time": "2023-12-28T10:36:02.716413400Z",
     "start_time": "2023-12-28T10:36:02.677499200Z"
    }
   },
   "id": "cded974d874f9e3c"
  },
  {
   "cell_type": "code",
   "execution_count": 12,
   "outputs": [
    {
     "data": {
      "text/plain": "     Unnamed: 0    0    1    2    3  Type\n0             0  5.1  3.5  1.4  0.2     0\n1             1  4.9  3.0  1.4  0.2     0\n2             2  4.7  3.2  1.3  0.2     0\n3             3  4.6  3.1  1.5  0.2     0\n4             4  5.0  3.6  1.4  0.2     0\n..          ...  ...  ...  ...  ...   ...\n145         145  6.7  3.0  5.2  2.3     2\n146         146  6.3  2.5  5.0  1.9     2\n147         147  6.5  3.0  5.2  2.0     2\n148         148  6.2  3.4  5.4  2.3     2\n149         149  5.9  3.0  5.1  1.8     2\n\n[150 rows x 6 columns]",
      "text/html": "<div>\n<style scoped>\n    .dataframe tbody tr th:only-of-type {\n        vertical-align: middle;\n    }\n\n    .dataframe tbody tr th {\n        vertical-align: top;\n    }\n\n    .dataframe thead th {\n        text-align: right;\n    }\n</style>\n<table border=\"1\" class=\"dataframe\">\n  <thead>\n    <tr style=\"text-align: right;\">\n      <th></th>\n      <th>Unnamed: 0</th>\n      <th>0</th>\n      <th>1</th>\n      <th>2</th>\n      <th>3</th>\n      <th>Type</th>\n    </tr>\n  </thead>\n  <tbody>\n    <tr>\n      <th>0</th>\n      <td>0</td>\n      <td>5.1</td>\n      <td>3.5</td>\n      <td>1.4</td>\n      <td>0.2</td>\n      <td>0</td>\n    </tr>\n    <tr>\n      <th>1</th>\n      <td>1</td>\n      <td>4.9</td>\n      <td>3.0</td>\n      <td>1.4</td>\n      <td>0.2</td>\n      <td>0</td>\n    </tr>\n    <tr>\n      <th>2</th>\n      <td>2</td>\n      <td>4.7</td>\n      <td>3.2</td>\n      <td>1.3</td>\n      <td>0.2</td>\n      <td>0</td>\n    </tr>\n    <tr>\n      <th>3</th>\n      <td>3</td>\n      <td>4.6</td>\n      <td>3.1</td>\n      <td>1.5</td>\n      <td>0.2</td>\n      <td>0</td>\n    </tr>\n    <tr>\n      <th>4</th>\n      <td>4</td>\n      <td>5.0</td>\n      <td>3.6</td>\n      <td>1.4</td>\n      <td>0.2</td>\n      <td>0</td>\n    </tr>\n    <tr>\n      <th>...</th>\n      <td>...</td>\n      <td>...</td>\n      <td>...</td>\n      <td>...</td>\n      <td>...</td>\n      <td>...</td>\n    </tr>\n    <tr>\n      <th>145</th>\n      <td>145</td>\n      <td>6.7</td>\n      <td>3.0</td>\n      <td>5.2</td>\n      <td>2.3</td>\n      <td>2</td>\n    </tr>\n    <tr>\n      <th>146</th>\n      <td>146</td>\n      <td>6.3</td>\n      <td>2.5</td>\n      <td>5.0</td>\n      <td>1.9</td>\n      <td>2</td>\n    </tr>\n    <tr>\n      <th>147</th>\n      <td>147</td>\n      <td>6.5</td>\n      <td>3.0</td>\n      <td>5.2</td>\n      <td>2.0</td>\n      <td>2</td>\n    </tr>\n    <tr>\n      <th>148</th>\n      <td>148</td>\n      <td>6.2</td>\n      <td>3.4</td>\n      <td>5.4</td>\n      <td>2.3</td>\n      <td>2</td>\n    </tr>\n    <tr>\n      <th>149</th>\n      <td>149</td>\n      <td>5.9</td>\n      <td>3.0</td>\n      <td>5.1</td>\n      <td>1.8</td>\n      <td>2</td>\n    </tr>\n  </tbody>\n</table>\n<p>150 rows × 6 columns</p>\n</div>"
     },
     "execution_count": 12,
     "metadata": {},
     "output_type": "execute_result"
    }
   ],
   "source": [
    "data_set"
   ],
   "metadata": {
    "collapsed": false,
    "ExecuteTime": {
     "end_time": "2023-12-28T10:36:02.805719Z",
     "start_time": "2023-12-28T10:36:02.714380700Z"
    }
   },
   "id": "a22e9e382b4ad340"
  },
  {
   "cell_type": "markdown",
   "source": [
    "1. LabelEncoder:"
   ],
   "metadata": {
    "collapsed": false
   },
   "id": "50ac73f4ac288255"
  },
  {
   "cell_type": "code",
   "execution_count": 13,
   "outputs": [
    {
     "name": "stdout",
     "output_type": "stream",
     "text": [
      "Original Labels: ['cat', 'dog', 'bird']\n",
      "Encoded Labels: [1 2 0]\n"
     ]
    }
   ],
   "source": [
    "from sklearn.preprocessing import LabelEncoder\n",
    "\n",
    "label_encoder = LabelEncoder()\n",
    "labels = ['cat', 'dog', 'bird']\n",
    "\n",
    "encoded_labels = label_encoder.fit_transform(labels)\n",
    "\n",
    "print(\"Original Labels:\", labels)\n",
    "print(\"Encoded Labels:\", encoded_labels)\n"
   ],
   "metadata": {
    "collapsed": false,
    "ExecuteTime": {
     "end_time": "2023-12-28T10:36:02.927370900Z",
     "start_time": "2023-12-28T10:36:02.721408600Z"
    }
   },
   "id": "7da245554c6c75f7"
  },
  {
   "cell_type": "markdown",
   "source": [
    "2. OrdinalEncoder:"
   ],
   "metadata": {
    "collapsed": false
   },
   "id": "3376a3e89aa0c850"
  },
  {
   "cell_type": "code",
   "execution_count": 14,
   "outputs": [
    {
     "name": "stdout",
     "output_type": "stream",
     "text": [
      "Original Data:\n",
      "['low', 10]\n",
      "['medium', 20]\n",
      "['high', 30]\n",
      "\n",
      "Encoded Data:\n",
      "[1. 0.]\n",
      "[2. 1.]\n",
      "[0. 2.]\n"
     ]
    }
   ],
   "source": [
    "from sklearn.preprocessing import OrdinalEncoder\n",
    "\n",
    "ordinal_encoder = OrdinalEncoder()\n",
    "data = [['low', 10], ['medium', 20], ['high', 30]]\n",
    "\n",
    "encoded_data = ordinal_encoder.fit_transform(data)\n",
    "\n",
    "print(\"Original Data:\")\n",
    "for row in data:\n",
    "    print(row)\n",
    "\n",
    "print(\"\\nEncoded Data:\")\n",
    "for row in encoded_data:\n",
    "    print(row)\n"
   ],
   "metadata": {
    "collapsed": false,
    "ExecuteTime": {
     "end_time": "2023-12-28T10:36:02.928369600Z",
     "start_time": "2023-12-28T10:36:02.740793800Z"
    }
   },
   "id": "e9a24a60b659b342"
  },
  {
   "cell_type": "markdown",
   "source": [
    "3. OneHotEncoder:"
   ],
   "metadata": {
    "collapsed": false
   },
   "id": "a4aab6dece88ee40"
  },
  {
   "cell_type": "code",
   "execution_count": 15,
   "outputs": [
    {
     "name": "stdout",
     "output_type": "stream",
     "text": [
      "Original Data:\n",
      "['red', 1]\n",
      "['green', 2]\n",
      "['blue', 3]\n",
      "\n",
      "Encoded Data:\n",
      "[0. 0. 1. 1. 0. 0.]\n",
      "[0. 1. 0. 0. 1. 0.]\n",
      "[1. 0. 0. 0. 0. 1.]\n"
     ]
    }
   ],
   "source": [
    "from sklearn.preprocessing import OneHotEncoder\n",
    "\n",
    "onehot_encoder = OneHotEncoder()\n",
    "data = [['red', 1], ['green', 2], ['blue', 3]]\n",
    "\n",
    "encoded_data = onehot_encoder.fit_transform(data).toarray()\n",
    "\n",
    "print(\"Original Data:\")\n",
    "for row in data:\n",
    "    print(row)\n",
    "\n",
    "print(\"\\nEncoded Data:\")\n",
    "for row in encoded_data:\n",
    "    print(row)\n"
   ],
   "metadata": {
    "collapsed": false,
    "ExecuteTime": {
     "end_time": "2023-12-28T10:36:02.930377700Z",
     "start_time": "2023-12-28T10:36:02.753530700Z"
    }
   },
   "id": "35ac2d1f2f7a2f4e"
  },
  {
   "cell_type": "markdown",
   "source": [],
   "metadata": {
    "collapsed": false
   },
   "id": "e200758fa3255c44"
  },
  {
   "cell_type": "markdown",
   "source": [
    "# convert into dummy variables (0 and 1)\n",
    "  |   0     |    1     |     2   |  #column names\n",
    "  |------------------------------\n",
    "  |   0     |    0     |     1   |  #row 1\n",
    "  |   1     |    0     |     0   |  #row 2\n",
    "  |   0     |    1     |     0   |  #row 3"
   ],
   "metadata": {
    "collapsed": false
   },
   "id": "b1099d32c1fccf00"
  },
  {
   "cell_type": "code",
   "execution_count": 16,
   "outputs": [
    {
     "ename": "NameError",
     "evalue": "name 'x' is not defined",
     "output_type": "error",
     "traceback": [
      "\u001B[1;31m---------------------------------------------------------------------------\u001B[0m",
      "\u001B[1;31mNameError\u001B[0m                                 Traceback (most recent call last)",
      "Cell \u001B[1;32mIn[16], line 4\u001B[0m\n\u001B[0;32m      2\u001B[0m \u001B[38;5;28;01mfrom\u001B[39;00m \u001B[38;5;21;01msklearn\u001B[39;00m\u001B[38;5;21;01m.\u001B[39;00m\u001B[38;5;21;01mpreprocessing\u001B[39;00m \u001B[38;5;28;01mimport\u001B[39;00m LabelEncoder, OneHotEncoder\n\u001B[0;32m      3\u001B[0m labelencoder_x\u001B[38;5;241m=\u001B[39m LabelEncoder()\n\u001B[1;32m----> 4\u001B[0m x[:, \u001B[38;5;241m3\u001B[39m]\u001B[38;5;241m=\u001B[39m labelencoder_x\u001B[38;5;241m.\u001B[39mfit_transform(\u001B[43mx\u001B[49m[:,\u001B[38;5;241m3\u001B[39m])\n\u001B[0;32m      5\u001B[0m onehotencoder\u001B[38;5;241m=\u001B[39m OneHotEncoder(categorical_features\u001B[38;5;241m=\u001B[39m [\u001B[38;5;241m3\u001B[39m])\n\u001B[0;32m      6\u001B[0m x\u001B[38;5;241m=\u001B[39m onehotencoder\u001B[38;5;241m.\u001B[39mfit_transform(x)\u001B[38;5;241m.\u001B[39mtoarray()\n",
      "\u001B[1;31mNameError\u001B[0m: name 'x' is not defined"
     ]
    }
   ],
   "source": [
    "#Catgorical data  \n",
    "from sklearn.preprocessing import LabelEncoder, OneHotEncoder\n",
    "labelencoder_x= LabelEncoder()\n",
    "x[:, 3]= labelencoder_x.fit_transform(x[:,3])\n",
    "onehotencoder= OneHotEncoder(categorical_features= [3])\n",
    "x= onehotencoder.fit_transform(x).toarray()"
   ],
   "metadata": {
    "collapsed": false,
    "ExecuteTime": {
     "end_time": "2023-12-28T10:36:03.690334200Z",
     "start_time": "2023-12-28T10:36:02.769253Z"
    }
   },
   "id": "3bb978d7f1ac9089"
  },
  {
   "cell_type": "markdown",
   "source": [],
   "metadata": {
    "collapsed": false
   },
   "id": "8f5fb3f04f7ba4bf"
  },
  {
   "cell_type": "code",
   "execution_count": null,
   "outputs": [],
   "source": [],
   "metadata": {
    "collapsed": false,
    "ExecuteTime": {
     "end_time": "2023-12-28T10:36:03.740207500Z",
     "start_time": "2023-12-28T10:36:03.698339800Z"
    }
   },
   "id": "dcf66dedf1e491c8"
  },
  {
   "cell_type": "markdown",
   "source": [
    "# Backward elimination"
   ],
   "metadata": {
    "collapsed": false
   },
   "id": "47f0812ca636c2ee"
  },
  {
   "cell_type": "code",
   "execution_count": null,
   "outputs": [],
   "source": [
    "import numpy as np\n",
    "import pandas as pd\n",
    "import statsmodels.api as sm\n",
    "from sklearn import datasets\n",
    "from sklearn.model_selection import train_test_split\n",
    "from sklearn.preprocessing import StandardScaler\n",
    "from sklearn.linear_model import LogisticRegression, LassoCV\n",
    "from sklearn.metrics import accuracy_score, confusion_matrix\n",
    "from statsmodels.stats.outliers_influence import variance_inflation_factor\n",
    "\n",
    "# Function to calculate VIF\n",
    "def calculate_vif(data):\n",
    "    vif_data = pd.DataFrame()\n",
    "    vif_data[\"Variable\"] = data.columns\n",
    "    vif_data[\"VIF\"] = [variance_inflation_factor(data.values, i) for i in range(data.shape[1])]\n",
    "    return vif_data\n",
    "\n",
    "# Load a different dataset to avoid issues with perfect separation\n",
    "iris = datasets.load_iris()\n",
    "X = iris.data\n",
    "y = (iris.target == 0).astype(int)  # Binary classification for setosa\n",
    "\n",
    "# Split the data into training and testing sets\n",
    "X_train, X_test, y_train, y_test = train_test_split(X, y, test_size=0.2, random_state=42)\n",
    "\n",
    "# Standardize the features\n",
    "scaler = StandardScaler()\n",
    "X_train_scaled = scaler.fit_transform(X_train)\n",
    "X_test_scaled = scaler.transform(X_test)\n",
    "\n",
    "# Add a constant term to the predictors matrix\n",
    "X_train_scaled = sm.add_constant(X_train_scaled)\n",
    "\n",
    "# Step 1: Select Significance Level (SL)\n",
    "SL = 0.05\n",
    "\n",
    "# Initial check for multicollinearity using VIF\n",
    "initial_vif_data = calculate_vif(pd.DataFrame(X_train_scaled[:, 1:], columns=iris.feature_names))\n",
    "print(\"Initial VIF:\")\n",
    "print(initial_vif_data)\n",
    "\n",
    "# Step 2: Fit the Complete Model\n",
    "try:\n",
    "    model = sm.Logit(y_train, X_train_scaled).fit()\n",
    "except Exception as e:\n",
    "    print(\"Exception:\", e)\n",
    "\n",
    "# Step 3-5: Backward Elimination Loop\n",
    "selected_features = list(range(X_train_scaled.shape[1]))\n",
    "while np.max(model.pvalues) > SL:\n",
    "    max_p_value_index = np.argmax(model.pvalues[1:]) + 1  # Exclude the constant term\n",
    "    selected_features.remove(max_p_value_index)  # Remove the predictor with the highest p-value\n",
    "    X_train_scaled = sm.add_constant(X_train_scaled[:, selected_features])  # Rebuild the matrix\n",
    "    try:\n",
    "        model = sm.Logit(y_train, X_train_scaled).fit()  # Rebuild the model\n",
    "    except Exception as e:\n",
    "        print(\"Exception:\", e)\n",
    "        break\n",
    "\n",
    "# Final Model Summary\n",
    "print(model.summary())\n",
    "\n",
    "# Predictions on the test set\n",
    "X_test_scaled = sm.add_constant(X_test_scaled)\n",
    "X_test_scaled = X_test_scaled[:, selected_features]  # Use the selected features\n",
    "y_pred = model.predict(X_test_scaled)\n",
    "y_pred_class = (y_pred > 0.5).astype(int)\n",
    "\n",
    "# Evaluate the model\n",
    "print(\"\\nConfusion Matrix:\")\n",
    "print(confusion_matrix(y_test, y_pred_class))\n",
    "print(\"\\nAccuracy Score:\", accuracy_score(y_test, y_pred_class))\n",
    "\n",
    "# Final check for multicollinearity using VIF\n",
    "final_vif_data = calculate_vif(pd.DataFrame(X_train_scaled[:, 1:], columns=iris.feature_names))\n",
    "print(\"Final VIF:\")\n",
    "print(final_vif_data)\n",
    "\n",
    "# Use Lasso regression to handle multicollinearity\n",
    "lasso_model = LassoCV(cv=5)\n",
    "lasso_model.fit(X_train_scaled[:, 1:], y_train)  # Exclude the constant term\n",
    "\n",
    "selected_features_lasso = [True] + list(lasso_model.coef_ != 0)\n",
    "X_train_scaled_lasso = sm.add_constant(X_train_scaled[:, selected_features_lasso])[:, 1:]\n",
    "\n",
    "# Continue with the rest of your code\n"
   ],
   "metadata": {
    "collapsed": false,
    "ExecuteTime": {
     "start_time": "2023-12-28T10:36:03.703384Z"
    }
   },
   "id": "e52a7190868fd1b7"
  },
  {
   "cell_type": "code",
   "execution_count": null,
   "outputs": [],
   "source": [],
   "metadata": {
    "collapsed": false,
    "ExecuteTime": {
     "start_time": "2023-12-28T10:36:03.711799Z"
    }
   },
   "id": "fc23c8888ae44135"
  }
 ],
 "metadata": {
  "kernelspec": {
   "display_name": "Python 3",
   "language": "python",
   "name": "python3"
  },
  "language_info": {
   "codemirror_mode": {
    "name": "ipython",
    "version": 2
   },
   "file_extension": ".py",
   "mimetype": "text/x-python",
   "name": "python",
   "nbconvert_exporter": "python",
   "pygments_lexer": "ipython2",
   "version": "2.7.6"
  }
 },
 "nbformat": 4,
 "nbformat_minor": 5
}
